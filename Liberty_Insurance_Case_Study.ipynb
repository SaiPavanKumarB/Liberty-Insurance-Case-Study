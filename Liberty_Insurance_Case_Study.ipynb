{
  "nbformat": 4,
  "nbformat_minor": 0,
  "metadata": {
    "colab": {
      "name": "Liberty Insurance - Case Study.ipynb",
      "provenance": [],
      "collapsed_sections": [],
      "authorship_tag": "ABX9TyNMuDXwulArYBJsqq1JIigD",
      "include_colab_link": true
    },
    "kernelspec": {
      "name": "python3",
      "display_name": "Python 3"
    },
    "language_info": {
      "name": "python"
    }
  },
  "cells": [
    {
      "cell_type": "markdown",
      "metadata": {
        "id": "view-in-github",
        "colab_type": "text"
      },
      "source": [
        "<a href=\"https://colab.research.google.com/github/SaiPavanKumarB/Liberty-Insurance-Case-Study/blob/main/Liberty_Insurance_Case_Study.ipynb\" target=\"_parent\"><img src=\"https://colab.research.google.com/assets/colab-badge.svg\" alt=\"Open In Colab\"/></a>"
      ]
    },
    {
      "cell_type": "markdown",
      "metadata": {
        "id": "9-ooIWN9nBwc"
      },
      "source": [
        "<font color=\"black\" face=\"Arial\" size=6><center> Liberty Insurance - Case Study </center></font>\n",
        "\n",
        "\n",
        "---\n",
        "\n"
      ]
    },
    {
      "cell_type": "markdown",
      "metadata": {
        "id": "yIfVTcIcmRiG"
      },
      "source": [
        "# Motor Insurance Claims\n",
        "\n",
        "> Purpose of this case study is to analyze the historical data of motor insurance claims by customers & build a model that predicts the number of claims during the time frame of policy\n",
        "\n",
        "\n",
        "\n"
      ]
    },
    {
      "cell_type": "markdown",
      "metadata": {
        "id": "u8dKm9_Qncck"
      },
      "source": [
        "## DATA DESCRIPTION:\n",
        "\n",
        "\n",
        "*   **policy_desc**: Policy Identifier; Primary Key which is unique for every policy\n",
        "*   **claim_count**: Total Claims (This is the response you should predicting); Numeric Variable\n",
        "*   **cat_areacode**: Area Code; Categorical Variable\n",
        "*   **num_vehicleAge**: Age of the vehicle; Numeric Variable\n",
        "*   **num_noClaimDiscountPercent**: Percentage of discount applied to policy premium based on claim history. If value is greater than 100 then policy premium was increased, if it’s less than 100 a discount was applied. A value of 100 means the premium remain unchanged; Numerical Variable\n",
        "*   **cat_carBrand**: Insured Vehicle Brand; Categorical Variable\n",
        "*   **num_populationDensitykmsq**: Population density of the city the policy holder lives in; Numerical Variable\n",
        "*   **cat_Region**: Region of the country the policy holder lives in; Categorical Variable\n",
        "*   **ord_vehicleHP**: Vehicle Horsepower; This feature is anonymised but maintains the same ordinality; Ordinal Variable\n",
        "*   **num_exposure**: Exposure time of policy. Time period within which the claims were made; Numerical Variable\n",
        "*   **cat_fuelType**: Insured Vehicle Fuel Type; Categorical Variable\n",
        "*  **num_driverAge**: Age of the Policy Holder; Numerical Variable\n",
        "\n",
        "\n",
        "\n",
        "\n",
        "\n",
        "\n",
        "\n",
        "\n",
        "\n",
        "\n",
        "\n"
      ]
    },
    {
      "cell_type": "markdown",
      "metadata": {
        "id": "i2dadfzMvOs4"
      },
      "source": [
        "*The text file is huge as it contains about 678014 rows *\n",
        "\n",
        "\n",
        "\n"
      ]
    },
    {
      "cell_type": "markdown",
      "metadata": {
        "id": "qbJ45u3Cm-yf"
      },
      "source": [
        "## Import Packages"
      ]
    },
    {
      "cell_type": "code",
      "metadata": {
        "id": "MVTDEd7d_poj"
      },
      "source": [
        "import pandas as pd\n",
        "import numpy as np\n",
        "import matplotlib.pyplot as plt\n",
        "%matplotlib inline\n",
        "\n",
        "import seaborn as sns\n",
        "sns.set_palette('tab10')\n",
        "sns.set_style('darkgrid')\n",
        "\n",
        "from google.colab import files\n",
        "import io\n",
        "import warnings\n",
        "import re\n",
        "warnings.filterwarnings('ignore')\n",
        "\n",
        "from sklearn.impute import KNNImputer"
      ],
      "execution_count": 139,
      "outputs": []
    },
    {
      "cell_type": "markdown",
      "metadata": {
        "id": "yiFiHq-YqLRz"
      },
      "source": [
        "## Read Input Data File"
      ]
    },
    {
      "cell_type": "code",
      "metadata": {
        "colab": {
          "base_uri": "https://localhost:8080/",
          "height": 232
        },
        "id": "ieF6WgW3_5xW",
        "outputId": "b32131db-325f-4049-c946-605d3cb886b8"
      },
      "source": [
        "Input_df = pd.read_csv('casestudy_data.csv')\n",
        "print(\"Shape of the data:{}\".format(Input_df.shape))\n",
        "Input_df.head()\n"
      ],
      "execution_count": 4,
      "outputs": [
        {
          "output_type": "stream",
          "text": [
            "Shape of the data:(678013, 12)\n"
          ],
          "name": "stdout"
        },
        {
          "output_type": "execute_result",
          "data": {
            "text/html": [
              "<div>\n",
              "<style scoped>\n",
              "    .dataframe tbody tr th:only-of-type {\n",
              "        vertical-align: middle;\n",
              "    }\n",
              "\n",
              "    .dataframe tbody tr th {\n",
              "        vertical-align: top;\n",
              "    }\n",
              "\n",
              "    .dataframe thead th {\n",
              "        text-align: right;\n",
              "    }\n",
              "</style>\n",
              "<table border=\"1\" class=\"dataframe\">\n",
              "  <thead>\n",
              "    <tr style=\"text-align: right;\">\n",
              "      <th></th>\n",
              "      <th>policy_desc</th>\n",
              "      <th>claim_count</th>\n",
              "      <th>cat_areacode</th>\n",
              "      <th>num_vehicleAge</th>\n",
              "      <th>num_noClaimDiscountPercent</th>\n",
              "      <th>cat_carBrand</th>\n",
              "      <th>num_populationDensitykmsq</th>\n",
              "      <th>cat_Region</th>\n",
              "      <th>ord_vehicleHP</th>\n",
              "      <th>num_exposure</th>\n",
              "      <th>cat_fuelType</th>\n",
              "      <th>num_driverAge</th>\n",
              "    </tr>\n",
              "  </thead>\n",
              "  <tbody>\n",
              "    <tr>\n",
              "      <th>0</th>\n",
              "      <td>1</td>\n",
              "      <td>1</td>\n",
              "      <td>D</td>\n",
              "      <td>0</td>\n",
              "      <td>50</td>\n",
              "      <td>B12</td>\n",
              "      <td>1217</td>\n",
              "      <td>R82</td>\n",
              "      <td>5</td>\n",
              "      <td>0.1</td>\n",
              "      <td>Regular</td>\n",
              "      <td>55</td>\n",
              "    </tr>\n",
              "    <tr>\n",
              "      <th>1</th>\n",
              "      <td>3</td>\n",
              "      <td>1</td>\n",
              "      <td>D</td>\n",
              "      <td>0</td>\n",
              "      <td>50</td>\n",
              "      <td>B12</td>\n",
              "      <td>1217</td>\n",
              "      <td>R82</td>\n",
              "      <td>5</td>\n",
              "      <td>0.77</td>\n",
              "      <td>Regular</td>\n",
              "      <td>55</td>\n",
              "    </tr>\n",
              "    <tr>\n",
              "      <th>2</th>\n",
              "      <td>5</td>\n",
              "      <td>1</td>\n",
              "      <td>B</td>\n",
              "      <td>2</td>\n",
              "      <td>50</td>\n",
              "      <td>B12</td>\n",
              "      <td>54</td>\n",
              "      <td>R22</td>\n",
              "      <td>6</td>\n",
              "      <td>0.75</td>\n",
              "      <td>Diesel</td>\n",
              "      <td>52</td>\n",
              "    </tr>\n",
              "    <tr>\n",
              "      <th>3</th>\n",
              "      <td>10</td>\n",
              "      <td>1</td>\n",
              "      <td>B</td>\n",
              "      <td>0</td>\n",
              "      <td>50</td>\n",
              "      <td>B12</td>\n",
              "      <td>76</td>\n",
              "      <td>R72</td>\n",
              "      <td>7</td>\n",
              "      <td>0.09</td>\n",
              "      <td>Diesel</td>\n",
              "      <td>46</td>\n",
              "    </tr>\n",
              "    <tr>\n",
              "      <th>4</th>\n",
              "      <td>11</td>\n",
              "      <td>1</td>\n",
              "      <td>B</td>\n",
              "      <td>0</td>\n",
              "      <td>50</td>\n",
              "      <td>B12</td>\n",
              "      <td>76</td>\n",
              "      <td>R72</td>\n",
              "      <td>7</td>\n",
              "      <td>0.84</td>\n",
              "      <td>Diesel</td>\n",
              "      <td>46</td>\n",
              "    </tr>\n",
              "  </tbody>\n",
              "</table>\n",
              "</div>"
            ],
            "text/plain": [
              "   policy_desc  claim_count  ... cat_fuelType  num_driverAge\n",
              "0            1            1  ...      Regular             55\n",
              "1            3            1  ...      Regular             55\n",
              "2            5            1  ...       Diesel             52\n",
              "3           10            1  ...       Diesel             46\n",
              "4           11            1  ...       Diesel             46\n",
              "\n",
              "[5 rows x 12 columns]"
            ]
          },
          "metadata": {
            "tags": []
          },
          "execution_count": 4
        }
      ]
    },
    {
      "cell_type": "markdown",
      "metadata": {
        "id": "2Gk8bBSFqYwz"
      },
      "source": [
        "### Check Data types & Missing Values"
      ]
    },
    {
      "cell_type": "code",
      "metadata": {
        "colab": {
          "base_uri": "https://localhost:8080/"
        },
        "id": "ylGUP9gEAE6P",
        "outputId": "0969e3e8-4b2d-4659-b2c7-cd611f79fd17"
      },
      "source": [
        "Input_df.info()"
      ],
      "execution_count": 5,
      "outputs": [
        {
          "output_type": "stream",
          "text": [
            "<class 'pandas.core.frame.DataFrame'>\n",
            "RangeIndex: 678013 entries, 0 to 678012\n",
            "Data columns (total 12 columns):\n",
            " #   Column                      Non-Null Count   Dtype \n",
            "---  ------                      --------------   ----- \n",
            " 0   policy_desc                 678013 non-null  int64 \n",
            " 1   claim_count                 678013 non-null  int64 \n",
            " 2   cat_areacode                678013 non-null  object\n",
            " 3   num_vehicleAge              678013 non-null  int64 \n",
            " 4   num_noClaimDiscountPercent  678013 non-null  int64 \n",
            " 5   cat_carBrand                678013 non-null  object\n",
            " 6   num_populationDensitykmsq   678013 non-null  int64 \n",
            " 7   cat_Region                  678013 non-null  object\n",
            " 8   ord_vehicleHP               678013 non-null  int64 \n",
            " 9   num_exposure                678013 non-null  object\n",
            " 10  cat_fuelType                677991 non-null  object\n",
            " 11  num_driverAge               677999 non-null  object\n",
            "dtypes: int64(6), object(6)\n",
            "memory usage: 62.1+ MB\n"
          ],
          "name": "stdout"
        }
      ]
    },
    {
      "cell_type": "code",
      "metadata": {
        "colab": {
          "base_uri": "https://localhost:8080/"
        },
        "id": "iYpZfyEfAIwp",
        "outputId": "eb9dd271-a5cb-463c-c795-c95901cfa939"
      },
      "source": [
        "Input_df.isna().sum()"
      ],
      "execution_count": 6,
      "outputs": [
        {
          "output_type": "execute_result",
          "data": {
            "text/plain": [
              "policy_desc                    0\n",
              "claim_count                    0\n",
              "cat_areacode                   0\n",
              "num_vehicleAge                 0\n",
              "num_noClaimDiscountPercent     0\n",
              "cat_carBrand                   0\n",
              "num_populationDensitykmsq      0\n",
              "cat_Region                     0\n",
              "ord_vehicleHP                  0\n",
              "num_exposure                   0\n",
              "cat_fuelType                  22\n",
              "num_driverAge                 14\n",
              "dtype: int64"
            ]
          },
          "metadata": {
            "tags": []
          },
          "execution_count": 6
        }
      ]
    },
    {
      "cell_type": "markdown",
      "metadata": {
        "id": "O_Fyycc3AMX4"
      },
      "source": [
        "Fuel Type has 22 missing values & Driver age has 14 missing values.\n",
        "Ignore these records given the number compared to the overall records"
      ]
    },
    {
      "cell_type": "code",
      "metadata": {
        "id": "0Ok3SSGbAQd6",
        "colab": {
          "base_uri": "https://localhost:8080/"
        },
        "outputId": "608a4326-4e53-4bb8-d7c2-2090401be36f"
      },
      "source": [
        "Input_df.dropna(inplace=True)\n",
        "print(Input_df.shape)"
      ],
      "execution_count": 7,
      "outputs": [
        {
          "output_type": "stream",
          "text": [
            "(677977, 12)\n"
          ],
          "name": "stdout"
        }
      ]
    },
    {
      "cell_type": "markdown",
      "metadata": {
        "id": "Zzgc-JuuzzSY"
      },
      "source": [
        "## Check Distribution Of Target Variable"
      ]
    },
    {
      "cell_type": "code",
      "metadata": {
        "colab": {
          "base_uri": "https://localhost:8080/",
          "height": 482
        },
        "id": "Qp7bSEelz6KD",
        "outputId": "01da5d6a-0c6f-4d9f-8ab3-0fb0b165e5d1"
      },
      "source": [
        "plt.figure(figsize=(8,4))\n",
        "sns.distplot(Input_df['claim_count'],kde=False)\n",
        "print(Input_df['claim_count'].value_counts())"
      ],
      "execution_count": 8,
      "outputs": [
        {
          "output_type": "stream",
          "text": [
            "0     643919\n",
            "1      32176\n",
            "2       1784\n",
            "3         82\n",
            "4          7\n",
            "11         3\n",
            "5          2\n",
            "16         1\n",
            "9          1\n",
            "8          1\n",
            "6          1\n",
            "Name: claim_count, dtype: int64\n"
          ],
          "name": "stdout"
        },
        {
          "output_type": "display_data",
          "data": {
            "image/png": "[encoded data removed]",
            "text/plain": [
              "<Figure size 576x288 with 1 Axes>"
            ]
          },
          "metadata": {
            "tags": []
          }
        }
      ]
    },
    {
      "cell_type": "markdown",
      "metadata": {
        "id": "hxBwBz691mc8"
      },
      "source": [
        "The distribution is skewed & not a decent spread. "
      ]
    },
    {
      "cell_type": "markdown",
      "metadata": {
        "id": "6ujNk5Tb5QZv"
      },
      "source": [
        "## Converting Target Variable into Buckets\n",
        "\n",
        "\n",
        "> Given the distribution of the target variable, we will split the target into 4 buckets\n",
        "1.   No_Claims\n",
        "2.   1_Claim\n",
        "1.   2_Or_3_Claims\n",
        "2.   More_Than_3_Claims\n",
        "\n",
        "This converts the problem into a Multi-Class Classification with Imbalance\n",
        "\n",
        "*Create a copy of the dataset to workupon, retaining the original dataframe as is*\n",
        "\n",
        "\n",
        "\n"
      ]
    },
    {
      "cell_type": "code",
      "metadata": {
        "colab": {
          "base_uri": "https://localhost:8080/"
        },
        "id": "J91B9pAB5uRG",
        "outputId": "db3f8881-822a-429c-ab33-984982f4a1d5"
      },
      "source": [
        "Data_copy_df = Input_df.copy()\n",
        "\n",
        "Data_copy_df['Num_of_Claims'] = np.where(Data_copy_df['claim_count']==0,'No_Claims',\n",
        "                                         np.where(Data_copy_df['claim_count']==1,'1_Claim',\n",
        "                                         np.where(((Data_copy_df['claim_count'] ==2) | (Data_copy_df['claim_count']==3)),'2_Or_3_Claims','More_Than_3_Claims')\n",
        "                                         ))\n",
        "print(Data_copy_df['Num_of_Claims'].value_counts())"
      ],
      "execution_count": 95,
      "outputs": [
        {
          "output_type": "stream",
          "text": [
            "No_Claims             643919\n",
            "1_Claim                32176\n",
            "2_Or_3_Claims           1866\n",
            "More_Than_3_Claims        16\n",
            "Name: Num_of_Claims, dtype: int64\n"
          ],
          "name": "stdout"
        }
      ]
    },
    {
      "cell_type": "markdown",
      "metadata": {
        "id": "OYD8liAu7wWR"
      },
      "source": [
        "Now we have 4 target classes"
      ]
    },
    {
      "cell_type": "markdown",
      "metadata": {
        "id": "H49Zw8g7e4J2"
      },
      "source": [
        "\n",
        "\n",
        "---\n",
        "\n"
      ]
    },
    {
      "cell_type": "code",
      "metadata": {
        "colab": {
          "base_uri": "https://localhost:8080/"
        },
        "id": "F5FP-GVnfD4-",
        "outputId": "7c4abb53-40b4-4c49-8f01-45d44ba76e76"
      },
      "source": [
        "Data_copy_df.info()"
      ],
      "execution_count": 97,
      "outputs": [
        {
          "output_type": "stream",
          "text": [
            "<class 'pandas.core.frame.DataFrame'>\n",
            "Int64Index: 677977 entries, 0 to 678012\n",
            "Data columns (total 13 columns):\n",
            " #   Column                      Non-Null Count   Dtype \n",
            "---  ------                      --------------   ----- \n",
            " 0   policy_desc                 677977 non-null  int64 \n",
            " 1   claim_count                 677977 non-null  int64 \n",
            " 2   cat_areacode                677977 non-null  object\n",
            " 3   num_vehicleAge              677977 non-null  int64 \n",
            " 4   num_noClaimDiscountPercent  677977 non-null  int64 \n",
            " 5   cat_carBrand                677977 non-null  object\n",
            " 6   num_populationDensitykmsq   677977 non-null  int64 \n",
            " 7   cat_Region                  677977 non-null  object\n",
            " 8   ord_vehicleHP               677977 non-null  int64 \n",
            " 9   num_exposure                677977 non-null  object\n",
            " 10  cat_fuelType                677977 non-null  object\n",
            " 11  num_driverAge               677977 non-null  object\n",
            " 12  Num_of_Claims               677977 non-null  object\n",
            "dtypes: int64(6), object(7)\n",
            "memory usage: 72.4+ MB\n"
          ],
          "name": "stdout"
        }
      ]
    },
    {
      "cell_type": "markdown",
      "metadata": {
        "id": "L8z2Kc_xekUH"
      },
      "source": [
        "## Check Values in Each Column\n",
        "#### Exposure & Driver Age Col names states that to be numeric, but data type is object. Check for any inconsistency in values"
      ]
    },
    {
      "cell_type": "markdown",
      "metadata": {
        "id": "WIgkFlo6iZsm"
      },
      "source": [
        "#### Exposure Column"
      ]
    },
    {
      "cell_type": "code",
      "metadata": {
        "colab": {
          "base_uri": "https://localhost:8080/"
        },
        "id": "bvBHGPDReVW1",
        "outputId": "1dbcf8d8-d141-499d-e48f-6f27dd1d95c1"
      },
      "source": [
        "Data_copy_df.loc[Data_copy_df['num_exposure'].apply(lambda x: x.isalnum())]['num_exposure'].value_counts()"
      ],
      "execution_count": 98,
      "outputs": [
        {
          "output_type": "execute_result",
          "data": {
            "text/plain": [
              "1          168101\n",
              "23years        27\n",
              "37years        27\n",
              "10years        17\n",
              "2               1\n",
              "Name: num_exposure, dtype: int64"
            ]
          },
          "metadata": {
            "tags": []
          },
          "execution_count": 98
        }
      ]
    },
    {
      "cell_type": "markdown",
      "metadata": {
        "id": "aR68f7KZkhGR"
      },
      "source": [
        "Exposure column, though should contain numeric data as per naming convention, seems to contain data entry issues like above. For example, 37 is entered as 37 years. There are about 168173 rows with such issues. Rest of the values are float. \n",
        "To bring consistency, let's convert this to float column"
      ]
    },
    {
      "cell_type": "code",
      "metadata": {
        "id": "6chLw9ixlScp"
      },
      "source": [
        "def fun_fix_Exposure(x):\n",
        "  if x.isalnum():\n",
        "    res = re.findall(r\"\\d+\",x)[0]\n",
        "  else:\n",
        "    res=x\n",
        "  return res"
      ],
      "execution_count": 134,
      "outputs": []
    },
    {
      "cell_type": "code",
      "metadata": {
        "id": "Nt0wXxJknWAi"
      },
      "source": [
        "Data_copy_df['num_exposure'] = Data_copy_df['num_exposure'].apply(fun_fix_Exposure)"
      ],
      "execution_count": 135,
      "outputs": []
    },
    {
      "cell_type": "markdown",
      "metadata": {
        "id": "IJD2QS2rijce"
      },
      "source": [
        "#### Driver Age Column\n"
      ]
    },
    {
      "cell_type": "code",
      "metadata": {
        "colab": {
          "base_uri": "https://localhost:8080/"
        },
        "id": "JuJfPAYcil4g",
        "outputId": "ed795414-b3e5-4771-d178-a71a0d231f9d"
      },
      "source": [
        "Data_copy_df.loc[Data_copy_df['num_driverAge'].apply(lambda x: not str(x).isdigit())]['num_driverAge']"
      ],
      "execution_count": 79,
      "outputs": [
        {
          "output_type": "execute_result",
          "data": {
            "text/plain": [
              "258         \n",
              "105969      \n",
              "165364      \n",
              "212991      \n",
              "217702      \n",
              "          ..\n",
              "624661      \n",
              "624718      \n",
              "635940      \n",
              "650714      \n",
              "676421      \n",
              "Name: num_driverAge, Length: 65554, dtype: object"
            ]
          },
          "metadata": {
            "tags": []
          },
          "execution_count": 79
        }
      ]
    },
    {
      "cell_type": "markdown",
      "metadata": {
        "id": "N71fG7W1oeF2"
      },
      "source": [
        "Driver Age column contains blank values for about 65000 records. This is again missing values that needs to be treated"
      ]
    },
    {
      "cell_type": "code",
      "metadata": {
        "id": "i1bNZttLoopT"
      },
      "source": [
        "def fun_fix_DriverAge(x):\n",
        "  if not str(x).isdigit():\n",
        "    res = np.nan\n",
        "  else:\n",
        "    res=x\n",
        "  return res"
      ],
      "execution_count": 110,
      "outputs": []
    },
    {
      "cell_type": "code",
      "metadata": {
        "id": "R6tI-6qyp7Hz"
      },
      "source": [
        "Data_copy_df['num_driverAge'] = Data_copy_df['num_driverAge'].apply(fun_fix_DriverAge)"
      ],
      "execution_count": 111,
      "outputs": []
    },
    {
      "cell_type": "code",
      "metadata": {
        "colab": {
          "base_uri": "https://localhost:8080/"
        },
        "id": "IMmuCbZfszOd",
        "outputId": "1ee30cc9-4f30-4a6b-9d24-ba0e0a2e859e"
      },
      "source": [
        "Data_copy_df.isna().sum()"
      ],
      "execution_count": 138,
      "outputs": [
        {
          "output_type": "execute_result",
          "data": {
            "text/plain": [
              "policy_desc                       0\n",
              "claim_count                       0\n",
              "cat_areacode                      0\n",
              "num_vehicleAge                    0\n",
              "num_noClaimDiscountPercent        0\n",
              "cat_carBrand                      0\n",
              "num_populationDensitykmsq         0\n",
              "cat_Region                        0\n",
              "ord_vehicleHP                     0\n",
              "num_exposure                      0\n",
              "cat_fuelType                      0\n",
              "num_driverAge                 65554\n",
              "Num_of_Claims                     0\n",
              "dtype: int64"
            ]
          },
          "metadata": {
            "tags": []
          },
          "execution_count": 138
        }
      ]
    },
    {
      "cell_type": "markdown",
      "metadata": {
        "id": "nlzOYWF6u78F"
      },
      "source": [
        "DriverAge column has 65554 missing values, which we will fix at later stage using KNNImputer"
      ]
    },
    {
      "cell_type": "code",
      "metadata": {
        "id": "BvHB4FcsC8Ft"
      },
      "source": [
        "Data_copy_df['ord_vehicleHP'] = Data_copy_df['ord_vehicleHP'].astype('object')\n",
        "Data_copy_df['num_exposure'] = Data_copy_df['num_exposure'].astype('float64')\n",
        "Data_copy_df['num_driverAge'] = Data_copy_df['num_driverAge'].astype('float64')"
      ],
      "execution_count": 145,
      "outputs": []
    },
    {
      "cell_type": "markdown",
      "metadata": {
        "id": "7szOBAcOca8K"
      },
      "source": [
        "## Rename columns"
      ]
    },
    {
      "cell_type": "code",
      "metadata": {
        "colab": {
          "base_uri": "https://localhost:8080/",
          "height": 215
        },
        "id": "suMaH_fgcdBz",
        "outputId": "a62a37a9-5ddb-4342-b9a8-122a04f89954"
      },
      "source": [
        "Col_names = {'num_vehicleAge':'Vehicle_Age','num_noClaimDiscountPercent':'No_Claim_Discount_Perc','num_populationDensitykmsq':'Population_Density_KmSq',\n",
        "             'cat_areacode':'Area_Code','cat_carBrand':'Car_Brand','ord_vehicleHP':'Vehicle_HP','num_exposure':'Policy_Exposure_Time',\n",
        "             'cat_fuelType':'Fuel_Type','num_driverAge':'Driver_Age'}\n",
        "Data_copy_df.rename(Col_names,axis=1,inplace=True)\n",
        "Data_copy_df.head()"
      ],
      "execution_count": 146,
      "outputs": [
        {
          "output_type": "execute_result",
          "data": {
            "text/html": [
              "<div>\n",
              "<style scoped>\n",
              "    .dataframe tbody tr th:only-of-type {\n",
              "        vertical-align: middle;\n",
              "    }\n",
              "\n",
              "    .dataframe tbody tr th {\n",
              "        vertical-align: top;\n",
              "    }\n",
              "\n",
              "    .dataframe thead th {\n",
              "        text-align: right;\n",
              "    }\n",
              "</style>\n",
              "<table border=\"1\" class=\"dataframe\">\n",
              "  <thead>\n",
              "    <tr style=\"text-align: right;\">\n",
              "      <th></th>\n",
              "      <th>policy_desc</th>\n",
              "      <th>claim_count</th>\n",
              "      <th>Area_Code</th>\n",
              "      <th>Vehicle_Age</th>\n",
              "      <th>No_Claim_Discount_Perc</th>\n",
              "      <th>Car_Brand</th>\n",
              "      <th>Population_Density_KmSq</th>\n",
              "      <th>cat_Region</th>\n",
              "      <th>Vehicle_HP</th>\n",
              "      <th>Policy_Exposure_Time</th>\n",
              "      <th>Fuel_Type</th>\n",
              "      <th>Driver_Age</th>\n",
              "      <th>Num_of_Claims</th>\n",
              "    </tr>\n",
              "  </thead>\n",
              "  <tbody>\n",
              "    <tr>\n",
              "      <th>0</th>\n",
              "      <td>1</td>\n",
              "      <td>1</td>\n",
              "      <td>D</td>\n",
              "      <td>0</td>\n",
              "      <td>50</td>\n",
              "      <td>B12</td>\n",
              "      <td>1217</td>\n",
              "      <td>R82</td>\n",
              "      <td>5</td>\n",
              "      <td>0.10</td>\n",
              "      <td>Regular</td>\n",
              "      <td>55.0</td>\n",
              "      <td>1_Claim</td>\n",
              "    </tr>\n",
              "    <tr>\n",
              "      <th>1</th>\n",
              "      <td>3</td>\n",
              "      <td>1</td>\n",
              "      <td>D</td>\n",
              "      <td>0</td>\n",
              "      <td>50</td>\n",
              "      <td>B12</td>\n",
              "      <td>1217</td>\n",
              "      <td>R82</td>\n",
              "      <td>5</td>\n",
              "      <td>0.77</td>\n",
              "      <td>Regular</td>\n",
              "      <td>55.0</td>\n",
              "      <td>1_Claim</td>\n",
              "    </tr>\n",
              "    <tr>\n",
              "      <th>2</th>\n",
              "      <td>5</td>\n",
              "      <td>1</td>\n",
              "      <td>B</td>\n",
              "      <td>2</td>\n",
              "      <td>50</td>\n",
              "      <td>B12</td>\n",
              "      <td>54</td>\n",
              "      <td>R22</td>\n",
              "      <td>6</td>\n",
              "      <td>0.75</td>\n",
              "      <td>Diesel</td>\n",
              "      <td>52.0</td>\n",
              "      <td>1_Claim</td>\n",
              "    </tr>\n",
              "    <tr>\n",
              "      <th>3</th>\n",
              "      <td>10</td>\n",
              "      <td>1</td>\n",
              "      <td>B</td>\n",
              "      <td>0</td>\n",
              "      <td>50</td>\n",
              "      <td>B12</td>\n",
              "      <td>76</td>\n",
              "      <td>R72</td>\n",
              "      <td>7</td>\n",
              "      <td>0.09</td>\n",
              "      <td>Diesel</td>\n",
              "      <td>46.0</td>\n",
              "      <td>1_Claim</td>\n",
              "    </tr>\n",
              "    <tr>\n",
              "      <th>4</th>\n",
              "      <td>11</td>\n",
              "      <td>1</td>\n",
              "      <td>B</td>\n",
              "      <td>0</td>\n",
              "      <td>50</td>\n",
              "      <td>B12</td>\n",
              "      <td>76</td>\n",
              "      <td>R72</td>\n",
              "      <td>7</td>\n",
              "      <td>0.84</td>\n",
              "      <td>Diesel</td>\n",
              "      <td>46.0</td>\n",
              "      <td>1_Claim</td>\n",
              "    </tr>\n",
              "  </tbody>\n",
              "</table>\n",
              "</div>"
            ],
            "text/plain": [
              "   policy_desc  claim_count Area_Code  ...  Fuel_Type  Driver_Age Num_of_Claims\n",
              "0            1            1         D  ...    Regular        55.0       1_Claim\n",
              "1            3            1         D  ...    Regular        55.0       1_Claim\n",
              "2            5            1         B  ...     Diesel        52.0       1_Claim\n",
              "3           10            1         B  ...     Diesel        46.0       1_Claim\n",
              "4           11            1         B  ...     Diesel        46.0       1_Claim\n",
              "\n",
              "[5 rows x 13 columns]"
            ]
          },
          "metadata": {
            "tags": []
          },
          "execution_count": 146
        }
      ]
    },
    {
      "cell_type": "code",
      "metadata": {
        "colab": {
          "base_uri": "https://localhost:8080/"
        },
        "id": "X-mu321I6KSq",
        "outputId": "13771cef-3a09-4000-bb0a-691d1906b10c"
      },
      "source": [
        "Num_cols = []\n",
        "Cat_Cols = []\n",
        "for i in Data_copy_df.columns:\n",
        "  if (Data_copy_df[i].dtype!='O'):\n",
        "    Num_cols.append(i)\n",
        "  elif (Data_copy_df[i].dtype=='O'):\n",
        "    Cat_Cols.append(i)\n",
        "  else :\n",
        "    print(\"Data Type for column {} undefined\".format(i))\n",
        "\n",
        "Num_cols.remove('policy_desc')\n",
        "Num_cols.remove('claim_count')\n",
        "print(\"Numeric Columns : \",Num_cols)\n",
        "print(\"Categorical Columns: \",Cat_Cols)"
      ],
      "execution_count": 148,
      "outputs": [
        {
          "output_type": "stream",
          "text": [
            "Numeric Columns :  ['Vehicle_Age', 'No_Claim_Discount_Perc', 'Population_Density_KmSq', 'Policy_Exposure_Time', 'Driver_Age']\n",
            "Categorical Columns:  ['Area_Code', 'Car_Brand', 'cat_Region', 'Vehicle_HP', 'Fuel_Type', 'Num_of_Claims']\n"
          ],
          "name": "stdout"
        }
      ]
    },
    {
      "cell_type": "markdown",
      "metadata": {
        "id": "63KgbYAiThyt"
      },
      "source": [
        "## Distribution of Numeric Columns"
      ]
    },
    {
      "cell_type": "code",
      "metadata": {
        "colab": {
          "base_uri": "https://localhost:8080/",
          "height": 697
        },
        "id": "kt7zKKRnBT2p",
        "outputId": "fb30956a-8a11-46ac-c040-7010d961e3ee"
      },
      "source": [
        "fig, ax = plt.subplots(nrows=2,ncols=len(Num_cols),figsize=(25,12))\n",
        "\n",
        "for i,col_name in enumerate(Num_cols):\n",
        "  ax[0,i].hist(Data_copy_df[col_name])\n",
        "  ax[0,i].title.set_text(col_name)\n",
        "  ax[1,i].boxplot(Data_copy_df[col_name])\n",
        "  ax[1,i].title.set_text(col_name)\n"
      ],
      "execution_count": 159,
      "outputs": [
        {
          "output_type": "display_data",
          "data": {
            "image/png": "[encoded data removed]",
            "text/plain": [
              "<Figure size 1800x864 with 10 Axes>"
            ]
          },
          "metadata": {
            "tags": []
          }
        }
      ]
    },
    {
      "cell_type": "markdown",
      "metadata": {
        "id": "ra-mAFp0v576"
      },
      "source": [
        "Except for Driver Age, rest of the numeric columns are skewed.\n",
        "Also, 3 extreme outliers for Policy Exposure Time. Policies that are more than 10 years. Need to verify the authenticity of it."
      ]
    }
  ]
}