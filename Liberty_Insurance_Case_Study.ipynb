{
  "nbformat": 4,
  "nbformat_minor": 0,
  "metadata": {
    "colab": {
      "name": "Liberty Insurance - Case Study.ipynb",
      "provenance": [],
      "authorship_tag": "ABX9TyP9BN3gWNm1cz0tp241kJ8C",
      "include_colab_link": true
    },
    "kernelspec": {
      "name": "python3",
      "display_name": "Python 3"
    },
    "language_info": {
      "name": "python"
    }
  },
  "cells": [
    {
      "cell_type": "markdown",
      "metadata": {
        "id": "view-in-github",
        "colab_type": "text"
      },
      "source": [
        "<a href=\"https://colab.research.google.com/github/SaiPavanKumarB/Liberty-Insurance-Case-Study/blob/main/Liberty_Insurance_Case_Study.ipynb\" target=\"_parent\"><img src=\"https://colab.research.google.com/assets/colab-badge.svg\" alt=\"Open In Colab\"/></a>"
      ]
    },
    {
      "cell_type": "code",
      "metadata": {
        "id": "MVTDEd7d_poj"
      },
      "source": [
        "import pandas as pd\n",
        "import numpy as np\n",
        "import matplotlib.pyplot as plt\n",
        "%matplotlib inline\n",
        "\n",
        "import seaborn as sns"
      ],
      "execution_count": 1,
      "outputs": []
    },
    {
      "cell_type": "code",
      "metadata": {
        "colab": {
          "base_uri": "https://localhost:8080/",
          "height": 249
        },
        "id": "ieF6WgW3_5xW",
        "outputId": "2cc96773-228b-4d3f-c0f9-a434ed54536b"
      },
      "source": [
        "Input_df = pd.read_csv('casestudy_data.csv')\n",
        "Input_df.head()"
      ],
      "execution_count": 3,
      "outputs": [
        {
          "output_type": "stream",
          "text": [
            "/usr/local/lib/python3.7/dist-packages/IPython/core/interactiveshell.py:2718: DtypeWarning: Columns (11) have mixed types.Specify dtype option on import or set low_memory=False.\n",
            "  interactivity=interactivity, compiler=compiler, result=result)\n"
          ],
          "name": "stderr"
        },
        {
          "output_type": "execute_result",
          "data": {
            "text/html": [
              "<div>\n",
              "<style scoped>\n",
              "    .dataframe tbody tr th:only-of-type {\n",
              "        vertical-align: middle;\n",
              "    }\n",
              "\n",
              "    .dataframe tbody tr th {\n",
              "        vertical-align: top;\n",
              "    }\n",
              "\n",
              "    .dataframe thead th {\n",
              "        text-align: right;\n",
              "    }\n",
              "</style>\n",
              "<table border=\"1\" class=\"dataframe\">\n",
              "  <thead>\n",
              "    <tr style=\"text-align: right;\">\n",
              "      <th></th>\n",
              "      <th>policy_desc</th>\n",
              "      <th>claim_count</th>\n",
              "      <th>cat_areacode</th>\n",
              "      <th>num_vehicleAge</th>\n",
              "      <th>num_noClaimDiscountPercent</th>\n",
              "      <th>cat_carBrand</th>\n",
              "      <th>num_populationDensitykmsq</th>\n",
              "      <th>cat_Region</th>\n",
              "      <th>ord_vehicleHP</th>\n",
              "      <th>num_exposure</th>\n",
              "      <th>cat_fuelType</th>\n",
              "      <th>num_driverAge</th>\n",
              "    </tr>\n",
              "  </thead>\n",
              "  <tbody>\n",
              "    <tr>\n",
              "      <th>0</th>\n",
              "      <td>1</td>\n",
              "      <td>1</td>\n",
              "      <td>D</td>\n",
              "      <td>0</td>\n",
              "      <td>50</td>\n",
              "      <td>B12</td>\n",
              "      <td>1217</td>\n",
              "      <td>R82</td>\n",
              "      <td>5</td>\n",
              "      <td>0.1</td>\n",
              "      <td>Regular</td>\n",
              "      <td>55</td>\n",
              "    </tr>\n",
              "    <tr>\n",
              "      <th>1</th>\n",
              "      <td>3</td>\n",
              "      <td>1</td>\n",
              "      <td>D</td>\n",
              "      <td>0</td>\n",
              "      <td>50</td>\n",
              "      <td>B12</td>\n",
              "      <td>1217</td>\n",
              "      <td>R82</td>\n",
              "      <td>5</td>\n",
              "      <td>0.77</td>\n",
              "      <td>Regular</td>\n",
              "      <td>55</td>\n",
              "    </tr>\n",
              "    <tr>\n",
              "      <th>2</th>\n",
              "      <td>5</td>\n",
              "      <td>1</td>\n",
              "      <td>B</td>\n",
              "      <td>2</td>\n",
              "      <td>50</td>\n",
              "      <td>B12</td>\n",
              "      <td>54</td>\n",
              "      <td>R22</td>\n",
              "      <td>6</td>\n",
              "      <td>0.75</td>\n",
              "      <td>Diesel</td>\n",
              "      <td>52</td>\n",
              "    </tr>\n",
              "    <tr>\n",
              "      <th>3</th>\n",
              "      <td>10</td>\n",
              "      <td>1</td>\n",
              "      <td>B</td>\n",
              "      <td>0</td>\n",
              "      <td>50</td>\n",
              "      <td>B12</td>\n",
              "      <td>76</td>\n",
              "      <td>R72</td>\n",
              "      <td>7</td>\n",
              "      <td>0.09</td>\n",
              "      <td>Diesel</td>\n",
              "      <td>46</td>\n",
              "    </tr>\n",
              "    <tr>\n",
              "      <th>4</th>\n",
              "      <td>11</td>\n",
              "      <td>1</td>\n",
              "      <td>B</td>\n",
              "      <td>0</td>\n",
              "      <td>50</td>\n",
              "      <td>B12</td>\n",
              "      <td>76</td>\n",
              "      <td>R72</td>\n",
              "      <td>7</td>\n",
              "      <td>0.84</td>\n",
              "      <td>Diesel</td>\n",
              "      <td>46</td>\n",
              "    </tr>\n",
              "  </tbody>\n",
              "</table>\n",
              "</div>"
            ],
            "text/plain": [
              "   policy_desc  claim_count  ... cat_fuelType  num_driverAge\n",
              "0            1            1  ...      Regular             55\n",
              "1            3            1  ...      Regular             55\n",
              "2            5            1  ...       Diesel             52\n",
              "3           10            1  ...       Diesel             46\n",
              "4           11            1  ...       Diesel             46\n",
              "\n",
              "[5 rows x 12 columns]"
            ]
          },
          "metadata": {
            "tags": []
          },
          "execution_count": 3
        }
      ]
    },
    {
      "cell_type": "code",
      "metadata": {
        "colab": {
          "base_uri": "https://localhost:8080/"
        },
        "id": "ylGUP9gEAE6P",
        "outputId": "5dd4c5dd-833e-4ec8-f456-0cd7195892e4"
      },
      "source": [
        "Input_df.info()"
      ],
      "execution_count": 4,
      "outputs": [
        {
          "output_type": "stream",
          "text": [
            "<class 'pandas.core.frame.DataFrame'>\n",
            "RangeIndex: 418461 entries, 0 to 418460\n",
            "Data columns (total 12 columns):\n",
            " #   Column                      Non-Null Count   Dtype \n",
            "---  ------                      --------------   ----- \n",
            " 0   policy_desc                 418461 non-null  int64 \n",
            " 1   claim_count                 418461 non-null  int64 \n",
            " 2   cat_areacode                418461 non-null  object\n",
            " 3   num_vehicleAge              418461 non-null  int64 \n",
            " 4   num_noClaimDiscountPercent  418461 non-null  int64 \n",
            " 5   cat_carBrand                418461 non-null  object\n",
            " 6   num_populationDensitykmsq   418461 non-null  int64 \n",
            " 7   cat_Region                  418461 non-null  object\n",
            " 8   ord_vehicleHP               418461 non-null  int64 \n",
            " 9   num_exposure                418461 non-null  object\n",
            " 10  cat_fuelType                418448 non-null  object\n",
            " 11  num_driverAge               418452 non-null  object\n",
            "dtypes: int64(6), object(6)\n",
            "memory usage: 38.3+ MB\n"
          ],
          "name": "stdout"
        }
      ]
    },
    {
      "cell_type": "code",
      "metadata": {
        "colab": {
          "base_uri": "https://localhost:8080/"
        },
        "id": "iYpZfyEfAIwp",
        "outputId": "47a92c1c-4ac3-41ee-fdbf-b6be3b1f0f0b"
      },
      "source": [
        "Input_df.isna().sum()"
      ],
      "execution_count": 5,
      "outputs": [
        {
          "output_type": "execute_result",
          "data": {
            "text/plain": [
              "policy_desc                    0\n",
              "claim_count                    0\n",
              "cat_areacode                   0\n",
              "num_vehicleAge                 0\n",
              "num_noClaimDiscountPercent     0\n",
              "cat_carBrand                   0\n",
              "num_populationDensitykmsq      0\n",
              "cat_Region                     0\n",
              "ord_vehicleHP                  0\n",
              "num_exposure                   0\n",
              "cat_fuelType                  13\n",
              "num_driverAge                  9\n",
              "dtype: int64"
            ]
          },
          "metadata": {
            "tags": []
          },
          "execution_count": 5
        }
      ]
    },
    {
      "cell_type": "markdown",
      "metadata": {
        "id": "O_Fyycc3AMX4"
      },
      "source": [
        "Fuel Type has 13 missing values"
      ]
    },
    {
      "cell_type": "code",
      "metadata": {
        "id": "0Ok3SSGbAQd6"
      },
      "source": [
        ""
      ],
      "execution_count": null,
      "outputs": []
    }
  ]
}